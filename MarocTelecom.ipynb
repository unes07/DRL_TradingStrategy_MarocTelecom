{
  "nbformat": 4,
  "nbformat_minor": 0,
  "metadata": {
    "colab": {
      "name": "MarocTelecom.ipynb",
      "provenance": [],
      "collapsed_sections": [
        "bEjrdUmRSRS5"
      ],
      "authorship_tag": "ABX9TyNMmMM0jasQ/bpu1hLc2lOi",
      "include_colab_link": true
    },
    "kernelspec": {
      "name": "python3",
      "display_name": "Python 3"
    }
  },
  "cells": [
    {
      "cell_type": "markdown",
      "metadata": {
        "id": "view-in-github",
        "colab_type": "text"
      },
      "source": [
        "<a href=\"https://colab.research.google.com/github/unes07/DRL_TradingStrategy_MarocTelecom/blob/main/MarocTelecom.ipynb\" target=\"_parent\"><img src=\"https://colab.research.google.com/assets/colab-badge.svg\" alt=\"Open In Colab\"/></a>"
      ]
    },
    {
      "cell_type": "markdown",
      "metadata": {
        "id": "uFsT3Ov49Qq8"
      },
      "source": [
        "# Deep Reinforcement Learning for IAM Stock Trading.\r\n",
        "Using OpenAI DRL to trade single stock (Maroc Telecom Casablanca Stock Exchange).\r\n",
        "\r\n",
        "Based on the paper: FinRL: A Deep Reinforcement Learning Library for Automated Stock Trading in Quantitative Finance, presented at NeurIPS 2020: Deep RL Workshop."
      ]
    },
    {
      "cell_type": "markdown",
      "metadata": {
        "id": "xkhiHgQZ-Gca"
      },
      "source": [
        "## Python Package Installation\r\n",
        "\r\n",
        "As a first step we check if the additional packages needed are present, if not install them. \r\n",
        "* pandas\r\n",
        "* matplotlib\r\n",
        "* stockstats\r\n",
        "* OpenAI gym\r\n",
        "* stable-baselines\r\n",
        "* tensorflow"
      ]
    },
    {
      "cell_type": "code",
      "metadata": {
        "id": "7gDqvV2G4IkL"
      },
      "source": [
        "import pkg_resources\r\n",
        "import pip\r\n",
        "installedPackages = {pkg.key for pkg in pkg_resources.working_set}\r\n",
        "required = {'pandas', 'matplotlib', 'stockstats','stable-baselines','gym','tensorflow'}\r\n",
        "missing = required - installedPackages\r\n",
        "if missing:\r\n",
        "    !pip install pandas\r\n",
        "    !pip install matplotlib\r\n",
        "    !pip install stockstats\r\n",
        "    !pip install gym\r\n",
        "    !pip install stable-baselines[mpi]\r\n",
        "    !pip install tensorflow==1.15.4"
      ],
      "execution_count": null,
      "outputs": []
    },
    {
      "cell_type": "code",
      "metadata": {
        "id": "JuhKvYjgCHyo"
      },
      "source": [
        "from stockstats import StockDataFrame as Sdf\r\n",
        "\r\n",
        "import pandas as pd\r\n",
        "import matplotlib.pyplot as plt\r\n",
        "\r\n",
        "import gym\r\n",
        "from stable_baselines import PPO2, DDPG, A2C, ACKTR, TD3\r\n",
        "from stable_baselines import DDPG\r\n",
        "from stable_baselines import A2C\r\n",
        "from stable_baselines import SAC\r\n",
        "from stable_baselines.common.vec_env import DummyVecEnv\r\n",
        "from stable_baselines.common.policies import MlpPolicy"
      ],
      "execution_count": null,
      "outputs": []
    },
    {
      "cell_type": "code",
      "metadata": {
        "id": "Gi9nNKLcDSJ8"
      },
      "source": [
        "#Diable the warnings\r\n",
        "import warnings\r\n",
        "warnings.filterwarnings('ignore')"
      ],
      "execution_count": null,
      "outputs": []
    },
    {
      "cell_type": "markdown",
      "metadata": {
        "id": "Bk8_Pf8yFkWI"
      },
      "source": [
        "#DATA"
      ]
    },
    {
      "cell_type": "code",
      "metadata": {
        "id": "FzyRyHfwE7bI"
      },
      "source": [
        "from google.colab import files\r\n",
        "uploaded = files.upload()"
      ],
      "execution_count": null,
      "outputs": []
    },
    {
      "cell_type": "code",
      "metadata": {
        "id": "MfXD1lgYF1lM"
      },
      "source": [
        "import io\r\n",
        "#df = pd.read_csv(io.BytesIO(uploaded['mtdata.csv']))\r\n",
        "df = pd.read_csv('mtdata.csv')"
      ],
      "execution_count": 223,
      "outputs": []
    },
    {
      "cell_type": "code",
      "metadata": {
        "id": "ZPKx4qjaGAuk",
        "colab": {
          "base_uri": "https://localhost:8080/",
          "height": 306
        },
        "outputId": "0363c5d6-53e1-4026-b2d5-e562a38aecff"
      },
      "source": [
        "df.head()"
      ],
      "execution_count": 224,
      "outputs": [
        {
          "output_type": "execute_result",
          "data": {
            "text/html": [
              "<div>\n",
              "<style scoped>\n",
              "    .dataframe tbody tr th:only-of-type {\n",
              "        vertical-align: middle;\n",
              "    }\n",
              "\n",
              "    .dataframe tbody tr th {\n",
              "        vertical-align: top;\n",
              "    }\n",
              "\n",
              "    .dataframe thead th {\n",
              "        text-align: right;\n",
              "    }\n",
              "</style>\n",
              "<table border=\"1\" class=\"dataframe\">\n",
              "  <thead>\n",
              "    <tr style=\"text-align: right;\">\n",
              "      <th></th>\n",
              "      <th>Code</th>\n",
              "      <th>Codification</th>\n",
              "      <th>ExchangeCode</th>\n",
              "      <th>Libelle</th>\n",
              "      <th>Devise</th>\n",
              "      <th>Date</th>\n",
              "      <th>Ouverture</th>\n",
              "      <th>Plus haut</th>\n",
              "      <th>Plus bas</th>\n",
              "      <th>Prix</th>\n",
              "      <th>Quantité</th>\n",
              "    </tr>\n",
              "  </thead>\n",
              "  <tbody>\n",
              "    <tr>\n",
              "      <th>0</th>\n",
              "      <td>IAM</td>\n",
              "      <td>TICK</td>\n",
              "      <td>XCAS</td>\n",
              "      <td>ITISSALAT AL-MAGHRIB</td>\n",
              "      <td>MAD</td>\n",
              "      <td>1/3/2005</td>\n",
              "      <td>83.52</td>\n",
              "      <td>84.46</td>\n",
              "      <td>83.52</td>\n",
              "      <td>83.81</td>\n",
              "      <td>292929.17</td>\n",
              "    </tr>\n",
              "    <tr>\n",
              "      <th>1</th>\n",
              "      <td>IAM</td>\n",
              "      <td>TICK</td>\n",
              "      <td>XCAS</td>\n",
              "      <td>ITISSALAT AL-MAGHRIB</td>\n",
              "      <td>MAD</td>\n",
              "      <td>1/4/2005</td>\n",
              "      <td>83.81</td>\n",
              "      <td>83.81</td>\n",
              "      <td>81.79</td>\n",
              "      <td>82.92</td>\n",
              "      <td>119242.71</td>\n",
              "    </tr>\n",
              "    <tr>\n",
              "      <th>2</th>\n",
              "      <td>IAM</td>\n",
              "      <td>TICK</td>\n",
              "      <td>XCAS</td>\n",
              "      <td>ITISSALAT AL-MAGHRIB</td>\n",
              "      <td>MAD</td>\n",
              "      <td>1/5/2005</td>\n",
              "      <td>83.52</td>\n",
              "      <td>83.52</td>\n",
              "      <td>81.79</td>\n",
              "      <td>83.31</td>\n",
              "      <td>154219.79</td>\n",
              "    </tr>\n",
              "    <tr>\n",
              "      <th>3</th>\n",
              "      <td>IAM</td>\n",
              "      <td>TICK</td>\n",
              "      <td>XCAS</td>\n",
              "      <td>ITISSALAT AL-MAGHRIB</td>\n",
              "      <td>MAD</td>\n",
              "      <td>1/6/2005</td>\n",
              "      <td>83.04</td>\n",
              "      <td>83.39</td>\n",
              "      <td>82.10</td>\n",
              "      <td>82.52</td>\n",
              "      <td>256865.62</td>\n",
              "    </tr>\n",
              "    <tr>\n",
              "      <th>4</th>\n",
              "      <td>IAM</td>\n",
              "      <td>TICK</td>\n",
              "      <td>XCAS</td>\n",
              "      <td>ITISSALAT AL-MAGHRIB</td>\n",
              "      <td>MAD</td>\n",
              "      <td>1/7/2005</td>\n",
              "      <td>81.60</td>\n",
              "      <td>82.08</td>\n",
              "      <td>80.64</td>\n",
              "      <td>81.60</td>\n",
              "      <td>460147.92</td>\n",
              "    </tr>\n",
              "  </tbody>\n",
              "</table>\n",
              "</div>"
            ],
            "text/plain": [
              "  Code Codification ExchangeCode  ... Plus bas   Prix   Quantité\n",
              "0  IAM         TICK         XCAS  ...    83.52  83.81  292929.17\n",
              "1  IAM         TICK         XCAS  ...    81.79  82.92  119242.71\n",
              "2  IAM         TICK         XCAS  ...    81.79  83.31  154219.79\n",
              "3  IAM         TICK         XCAS  ...    82.10  82.52  256865.62\n",
              "4  IAM         TICK         XCAS  ...    80.64  81.60  460147.92\n",
              "\n",
              "[5 rows x 11 columns]"
            ]
          },
          "metadata": {
            "tags": []
          },
          "execution_count": 224
        }
      ]
    },
    {
      "cell_type": "code",
      "metadata": {
        "colab": {
          "base_uri": "https://localhost:8080/"
        },
        "id": "Z0_e9zgzK9k9",
        "outputId": "85a15881-f502-4816-9ae7-a659413a026e"
      },
      "source": [
        "df.shape"
      ],
      "execution_count": null,
      "outputs": [
        {
          "output_type": "execute_result",
          "data": {
            "text/plain": [
              "(4021, 12)"
            ]
          },
          "metadata": {
            "tags": []
          },
          "execution_count": 136
        }
      ]
    },
    {
      "cell_type": "code",
      "metadata": {
        "id": "LrkyKgTsMGFb"
      },
      "source": [
        "# reset the index, we want to use numbers instead of dates\r\n",
        "df=df.reset_index()"
      ],
      "execution_count": null,
      "outputs": []
    },
    {
      "cell_type": "code",
      "metadata": {
        "id": "F8YCZSkaMTnP"
      },
      "source": [
        "df.head()"
      ],
      "execution_count": null,
      "outputs": []
    },
    {
      "cell_type": "code",
      "metadata": {
        "colab": {
          "base_uri": "https://localhost:8080/"
        },
        "id": "LcHZC0N7MWQi",
        "outputId": "e10cc56a-28cc-4375-953b-28e68281d5e9"
      },
      "source": [
        "df.columns"
      ],
      "execution_count": null,
      "outputs": [
        {
          "output_type": "execute_result",
          "data": {
            "text/plain": [
              "Index(['level_0', 'index', 'Code', 'Codification', 'ExchangeCode', 'Libelle',\n",
              "       'Devise', 'Date', 'Ouverture', 'Plus haut', 'Plus bas', 'Prix',\n",
              "       'Quantité'],\n",
              "      dtype='object')"
            ]
          },
          "metadata": {
            "tags": []
          },
          "execution_count": 139
        }
      ]
    },
    {
      "cell_type": "code",
      "metadata": {
        "id": "SKlUzjT1UAI3"
      },
      "source": [
        "for i in df.columns:\r\n",
        "  if i != 'Date':\r\n",
        "    df[i] = pd.to_numeric(df[i], errors='coerce')\r\n",
        "  elif i == 'Date':\r\n",
        "    df[i] = pd.to_datetime(df[i])"
      ],
      "execution_count": null,
      "outputs": []
    },
    {
      "cell_type": "code",
      "metadata": {
        "colab": {
          "base_uri": "https://localhost:8080/"
        },
        "id": "lfbi_Yj5VDHO",
        "outputId": "a0a476c7-7b35-40f3-82b8-2acfc01d39b5"
      },
      "source": [
        "df.info()"
      ],
      "execution_count": null,
      "outputs": [
        {
          "output_type": "stream",
          "text": [
            "<class 'pandas.core.frame.DataFrame'>\n",
            "RangeIndex: 4021 entries, 0 to 4020\n",
            "Data columns (total 13 columns):\n",
            " #   Column        Non-Null Count  Dtype         \n",
            "---  ------        --------------  -----         \n",
            " 0   level_0       4021 non-null   int64         \n",
            " 1   index         4021 non-null   int64         \n",
            " 2   Code          0 non-null      float64       \n",
            " 3   Codification  0 non-null      float64       \n",
            " 4   ExchangeCode  0 non-null      float64       \n",
            " 5   Libelle       0 non-null      float64       \n",
            " 6   Devise        0 non-null      float64       \n",
            " 7   Date          4021 non-null   datetime64[ns]\n",
            " 8   Ouverture     4015 non-null   float64       \n",
            " 9   Plus haut     4020 non-null   float64       \n",
            " 10  Plus bas      4020 non-null   float64       \n",
            " 11  Prix          4021 non-null   float64       \n",
            " 12  Quantité      4016 non-null   float64       \n",
            "dtypes: datetime64[ns](1), float64(10), int64(2)\n",
            "memory usage: 408.5 KB\n"
          ],
          "name": "stdout"
        }
      ]
    },
    {
      "cell_type": "code",
      "metadata": {
        "id": "X5iL_O_WNICb"
      },
      "source": [
        "mt = df[['Date', 'Ouverture', 'Plus haut', 'Plus bas', 'Prix', 'Quantité']].copy()"
      ],
      "execution_count": null,
      "outputs": []
    },
    {
      "cell_type": "code",
      "metadata": {
        "id": "i9-N5N6HQV0v"
      },
      "source": [
        "mt.columns = ['datadate','open','high','low','close','volume']"
      ],
      "execution_count": null,
      "outputs": []
    },
    {
      "cell_type": "code",
      "metadata": {
        "colab": {
          "base_uri": "https://localhost:8080/"
        },
        "id": "8J8EKDNoVt4E",
        "outputId": "da8a4716-9984-4c96-9545-00df39332257"
      },
      "source": [
        "mt.info()"
      ],
      "execution_count": null,
      "outputs": [
        {
          "output_type": "stream",
          "text": [
            "<class 'pandas.core.frame.DataFrame'>\n",
            "RangeIndex: 4021 entries, 0 to 4020\n",
            "Data columns (total 6 columns):\n",
            " #   Column    Non-Null Count  Dtype         \n",
            "---  ------    --------------  -----         \n",
            " 0   datadate  4021 non-null   datetime64[ns]\n",
            " 1   open      4015 non-null   float64       \n",
            " 2   high      4020 non-null   float64       \n",
            " 3   low       4020 non-null   float64       \n",
            " 4   close     4021 non-null   float64       \n",
            " 5   volume    4016 non-null   float64       \n",
            "dtypes: datetime64[ns](1), float64(5)\n",
            "memory usage: 188.6 KB\n"
          ],
          "name": "stdout"
        }
      ]
    },
    {
      "cell_type": "code",
      "metadata": {
        "colab": {
          "base_uri": "https://localhost:8080/",
          "height": 204
        },
        "id": "-lhE-gVPQZGl",
        "outputId": "333412b2-1360-4921-a1a0-e6280417d28a"
      },
      "source": [
        "mt.head()"
      ],
      "execution_count": null,
      "outputs": [
        {
          "output_type": "execute_result",
          "data": {
            "text/html": [
              "<div>\n",
              "<style scoped>\n",
              "    .dataframe tbody tr th:only-of-type {\n",
              "        vertical-align: middle;\n",
              "    }\n",
              "\n",
              "    .dataframe tbody tr th {\n",
              "        vertical-align: top;\n",
              "    }\n",
              "\n",
              "    .dataframe thead th {\n",
              "        text-align: right;\n",
              "    }\n",
              "</style>\n",
              "<table border=\"1\" class=\"dataframe\">\n",
              "  <thead>\n",
              "    <tr style=\"text-align: right;\">\n",
              "      <th></th>\n",
              "      <th>datadate</th>\n",
              "      <th>open</th>\n",
              "      <th>high</th>\n",
              "      <th>low</th>\n",
              "      <th>close</th>\n",
              "      <th>volume</th>\n",
              "    </tr>\n",
              "  </thead>\n",
              "  <tbody>\n",
              "    <tr>\n",
              "      <th>0</th>\n",
              "      <td>2005-01-03</td>\n",
              "      <td>83.52</td>\n",
              "      <td>84.46</td>\n",
              "      <td>83.52</td>\n",
              "      <td>83.81</td>\n",
              "      <td>292929.17</td>\n",
              "    </tr>\n",
              "    <tr>\n",
              "      <th>1</th>\n",
              "      <td>2005-01-04</td>\n",
              "      <td>83.81</td>\n",
              "      <td>83.81</td>\n",
              "      <td>81.79</td>\n",
              "      <td>82.92</td>\n",
              "      <td>119242.71</td>\n",
              "    </tr>\n",
              "    <tr>\n",
              "      <th>2</th>\n",
              "      <td>2005-01-05</td>\n",
              "      <td>83.52</td>\n",
              "      <td>83.52</td>\n",
              "      <td>81.79</td>\n",
              "      <td>83.31</td>\n",
              "      <td>154219.79</td>\n",
              "    </tr>\n",
              "    <tr>\n",
              "      <th>3</th>\n",
              "      <td>2005-01-06</td>\n",
              "      <td>83.04</td>\n",
              "      <td>83.39</td>\n",
              "      <td>82.10</td>\n",
              "      <td>82.52</td>\n",
              "      <td>256865.62</td>\n",
              "    </tr>\n",
              "    <tr>\n",
              "      <th>4</th>\n",
              "      <td>2005-01-07</td>\n",
              "      <td>81.60</td>\n",
              "      <td>82.08</td>\n",
              "      <td>80.64</td>\n",
              "      <td>81.60</td>\n",
              "      <td>460147.92</td>\n",
              "    </tr>\n",
              "  </tbody>\n",
              "</table>\n",
              "</div>"
            ],
            "text/plain": [
              "    datadate   open   high    low  close     volume\n",
              "0 2005-01-03  83.52  84.46  83.52  83.81  292929.17\n",
              "1 2005-01-04  83.81  83.81  81.79  82.92  119242.71\n",
              "2 2005-01-05  83.52  83.52  81.79  83.31  154219.79\n",
              "3 2005-01-06  83.04  83.39  82.10  82.52  256865.62\n",
              "4 2005-01-07  81.60  82.08  80.64  81.60  460147.92"
            ]
          },
          "metadata": {
            "tags": []
          },
          "execution_count": 149
        }
      ]
    },
    {
      "cell_type": "code",
      "metadata": {
        "id": "ZsyVxES5Qj5-"
      },
      "source": [
        "mt.to_csv('maroctelecom.csv')"
      ],
      "execution_count": null,
      "outputs": []
    },
    {
      "cell_type": "markdown",
      "metadata": {
        "id": "bM3IWIq1Qzo-"
      },
      "source": [
        "# Part 2: Preprocess Data\r\n",
        "Data preprocessing is a crucial step for training a high quality machine learning model. We need to check for missing data and do feature engineering in order to convert the data into a model-ready state."
      ]
    },
    {
      "cell_type": "code",
      "metadata": {
        "colab": {
          "base_uri": "https://localhost:8080/"
        },
        "id": "s0sfEg9xQpub",
        "outputId": "9cc4a8db-38dd-4500-9f2d-a9b19544f6eb"
      },
      "source": [
        "# check missing data \r\n",
        "mt.isnull().values.any()"
      ],
      "execution_count": null,
      "outputs": [
        {
          "output_type": "execute_result",
          "data": {
            "text/plain": [
              "True"
            ]
          },
          "metadata": {
            "tags": []
          },
          "execution_count": 151
        }
      ]
    },
    {
      "cell_type": "code",
      "metadata": {
        "id": "hQqfDm6SQviA"
      },
      "source": [
        "# calculate technical indicators like MACD\r\n",
        "stock = Sdf.retype(mt.copy())\r\n",
        "mt['macd'] = stock['macd']"
      ],
      "execution_count": null,
      "outputs": []
    },
    {
      "cell_type": "code",
      "metadata": {
        "colab": {
          "base_uri": "https://localhost:8080/"
        },
        "id": "FH7vlGlRRGYA",
        "outputId": "acdd635a-57da-4368-e841-5a784088fe85"
      },
      "source": [
        "# check missing data again\r\n",
        "mt.isnull().values.any()"
      ],
      "execution_count": null,
      "outputs": [
        {
          "output_type": "execute_result",
          "data": {
            "text/plain": [
              "True"
            ]
          },
          "metadata": {
            "tags": []
          },
          "execution_count": 153
        }
      ]
    },
    {
      "cell_type": "code",
      "metadata": {
        "colab": {
          "base_uri": "https://localhost:8080/",
          "height": 204
        },
        "id": "y7exbzrVRJmh",
        "outputId": "110721ff-67c2-49ff-b952-23677bf55dd5"
      },
      "source": [
        "mt.head()"
      ],
      "execution_count": null,
      "outputs": [
        {
          "output_type": "execute_result",
          "data": {
            "text/html": [
              "<div>\n",
              "<style scoped>\n",
              "    .dataframe tbody tr th:only-of-type {\n",
              "        vertical-align: middle;\n",
              "    }\n",
              "\n",
              "    .dataframe tbody tr th {\n",
              "        vertical-align: top;\n",
              "    }\n",
              "\n",
              "    .dataframe thead th {\n",
              "        text-align: right;\n",
              "    }\n",
              "</style>\n",
              "<table border=\"1\" class=\"dataframe\">\n",
              "  <thead>\n",
              "    <tr style=\"text-align: right;\">\n",
              "      <th></th>\n",
              "      <th>datadate</th>\n",
              "      <th>open</th>\n",
              "      <th>high</th>\n",
              "      <th>low</th>\n",
              "      <th>close</th>\n",
              "      <th>volume</th>\n",
              "      <th>macd</th>\n",
              "    </tr>\n",
              "  </thead>\n",
              "  <tbody>\n",
              "    <tr>\n",
              "      <th>0</th>\n",
              "      <td>2005-01-03</td>\n",
              "      <td>83.52</td>\n",
              "      <td>84.46</td>\n",
              "      <td>83.52</td>\n",
              "      <td>83.81</td>\n",
              "      <td>292929.17</td>\n",
              "      <td>0.000000</td>\n",
              "    </tr>\n",
              "    <tr>\n",
              "      <th>1</th>\n",
              "      <td>2005-01-04</td>\n",
              "      <td>83.81</td>\n",
              "      <td>83.81</td>\n",
              "      <td>81.79</td>\n",
              "      <td>82.92</td>\n",
              "      <td>119242.71</td>\n",
              "      <td>-0.019968</td>\n",
              "    </tr>\n",
              "    <tr>\n",
              "      <th>2</th>\n",
              "      <td>2005-01-05</td>\n",
              "      <td>83.52</td>\n",
              "      <td>83.52</td>\n",
              "      <td>81.79</td>\n",
              "      <td>83.31</td>\n",
              "      <td>154219.79</td>\n",
              "      <td>-0.013349</td>\n",
              "    </tr>\n",
              "    <tr>\n",
              "      <th>3</th>\n",
              "      <td>2005-01-06</td>\n",
              "      <td>83.04</td>\n",
              "      <td>83.39</td>\n",
              "      <td>82.10</td>\n",
              "      <td>82.52</td>\n",
              "      <td>256865.62</td>\n",
              "      <td>-0.038534</td>\n",
              "    </tr>\n",
              "    <tr>\n",
              "      <th>4</th>\n",
              "      <td>2005-01-07</td>\n",
              "      <td>81.60</td>\n",
              "      <td>82.08</td>\n",
              "      <td>80.64</td>\n",
              "      <td>81.60</td>\n",
              "      <td>460147.92</td>\n",
              "      <td>-0.088017</td>\n",
              "    </tr>\n",
              "  </tbody>\n",
              "</table>\n",
              "</div>"
            ],
            "text/plain": [
              "    datadate   open   high    low  close     volume      macd\n",
              "0 2005-01-03  83.52  84.46  83.52  83.81  292929.17  0.000000\n",
              "1 2005-01-04  83.81  83.81  81.79  82.92  119242.71 -0.019968\n",
              "2 2005-01-05  83.52  83.52  81.79  83.31  154219.79 -0.013349\n",
              "3 2005-01-06  83.04  83.39  82.10  82.52  256865.62 -0.038534\n",
              "4 2005-01-07  81.60  82.08  80.64  81.60  460147.92 -0.088017"
            ]
          },
          "metadata": {
            "tags": []
          },
          "execution_count": 154
        }
      ]
    },
    {
      "cell_type": "code",
      "metadata": {
        "id": "rRhZ8-A2RMH3"
      },
      "source": [
        "mt=mt.fillna(method='bfill')"
      ],
      "execution_count": null,
      "outputs": []
    },
    {
      "cell_type": "code",
      "metadata": {
        "colab": {
          "base_uri": "https://localhost:8080/"
        },
        "id": "MpS1y3UFV51p",
        "outputId": "ee510f8f-f91e-4871-975a-9132a4ec2b8e"
      },
      "source": [
        "mt.isnull().values.any()"
      ],
      "execution_count": null,
      "outputs": [
        {
          "output_type": "execute_result",
          "data": {
            "text/plain": [
              "False"
            ]
          },
          "metadata": {
            "tags": []
          },
          "execution_count": 156
        }
      ]
    },
    {
      "cell_type": "code",
      "metadata": {
        "id": "BjYLHnc4RSRJ"
      },
      "source": [
        "# Note that I always use a copy of the original data to try it track step by step.\r\n",
        "data_clean = mt.copy()"
      ],
      "execution_count": null,
      "outputs": []
    },
    {
      "cell_type": "code",
      "metadata": {
        "colab": {
          "base_uri": "https://localhost:8080/",
          "height": 204
        },
        "id": "3sjcRqZMRWKh",
        "outputId": "1e431956-8b7b-40ca-bee7-5298f4bab979"
      },
      "source": [
        "data_clean.head()"
      ],
      "execution_count": null,
      "outputs": [
        {
          "output_type": "execute_result",
          "data": {
            "text/html": [
              "<div>\n",
              "<style scoped>\n",
              "    .dataframe tbody tr th:only-of-type {\n",
              "        vertical-align: middle;\n",
              "    }\n",
              "\n",
              "    .dataframe tbody tr th {\n",
              "        vertical-align: top;\n",
              "    }\n",
              "\n",
              "    .dataframe thead th {\n",
              "        text-align: right;\n",
              "    }\n",
              "</style>\n",
              "<table border=\"1\" class=\"dataframe\">\n",
              "  <thead>\n",
              "    <tr style=\"text-align: right;\">\n",
              "      <th></th>\n",
              "      <th>datadate</th>\n",
              "      <th>open</th>\n",
              "      <th>high</th>\n",
              "      <th>low</th>\n",
              "      <th>close</th>\n",
              "      <th>volume</th>\n",
              "      <th>macd</th>\n",
              "    </tr>\n",
              "  </thead>\n",
              "  <tbody>\n",
              "    <tr>\n",
              "      <th>0</th>\n",
              "      <td>2005-01-03</td>\n",
              "      <td>83.52</td>\n",
              "      <td>84.46</td>\n",
              "      <td>83.52</td>\n",
              "      <td>83.81</td>\n",
              "      <td>292929.17</td>\n",
              "      <td>0.000000</td>\n",
              "    </tr>\n",
              "    <tr>\n",
              "      <th>1</th>\n",
              "      <td>2005-01-04</td>\n",
              "      <td>83.81</td>\n",
              "      <td>83.81</td>\n",
              "      <td>81.79</td>\n",
              "      <td>82.92</td>\n",
              "      <td>119242.71</td>\n",
              "      <td>-0.019968</td>\n",
              "    </tr>\n",
              "    <tr>\n",
              "      <th>2</th>\n",
              "      <td>2005-01-05</td>\n",
              "      <td>83.52</td>\n",
              "      <td>83.52</td>\n",
              "      <td>81.79</td>\n",
              "      <td>83.31</td>\n",
              "      <td>154219.79</td>\n",
              "      <td>-0.013349</td>\n",
              "    </tr>\n",
              "    <tr>\n",
              "      <th>3</th>\n",
              "      <td>2005-01-06</td>\n",
              "      <td>83.04</td>\n",
              "      <td>83.39</td>\n",
              "      <td>82.10</td>\n",
              "      <td>82.52</td>\n",
              "      <td>256865.62</td>\n",
              "      <td>-0.038534</td>\n",
              "    </tr>\n",
              "    <tr>\n",
              "      <th>4</th>\n",
              "      <td>2005-01-07</td>\n",
              "      <td>81.60</td>\n",
              "      <td>82.08</td>\n",
              "      <td>80.64</td>\n",
              "      <td>81.60</td>\n",
              "      <td>460147.92</td>\n",
              "      <td>-0.088017</td>\n",
              "    </tr>\n",
              "  </tbody>\n",
              "</table>\n",
              "</div>"
            ],
            "text/plain": [
              "    datadate   open   high    low  close     volume      macd\n",
              "0 2005-01-03  83.52  84.46  83.52  83.81  292929.17  0.000000\n",
              "1 2005-01-04  83.81  83.81  81.79  82.92  119242.71 -0.019968\n",
              "2 2005-01-05  83.52  83.52  81.79  83.31  154219.79 -0.013349\n",
              "3 2005-01-06  83.04  83.39  82.10  82.52  256865.62 -0.038534\n",
              "4 2005-01-07  81.60  82.08  80.64  81.60  460147.92 -0.088017"
            ]
          },
          "metadata": {
            "tags": []
          },
          "execution_count": 158
        }
      ]
    },
    {
      "cell_type": "code",
      "metadata": {
        "colab": {
          "base_uri": "https://localhost:8080/",
          "height": 204
        },
        "id": "J9IqmdfhRYTH",
        "outputId": "9515cf2f-2e9a-468e-de9a-873d58c9b224"
      },
      "source": [
        "data_clean.tail()"
      ],
      "execution_count": null,
      "outputs": [
        {
          "output_type": "execute_result",
          "data": {
            "text/html": [
              "<div>\n",
              "<style scoped>\n",
              "    .dataframe tbody tr th:only-of-type {\n",
              "        vertical-align: middle;\n",
              "    }\n",
              "\n",
              "    .dataframe tbody tr th {\n",
              "        vertical-align: top;\n",
              "    }\n",
              "\n",
              "    .dataframe thead th {\n",
              "        text-align: right;\n",
              "    }\n",
              "</style>\n",
              "<table border=\"1\" class=\"dataframe\">\n",
              "  <thead>\n",
              "    <tr style=\"text-align: right;\">\n",
              "      <th></th>\n",
              "      <th>datadate</th>\n",
              "      <th>open</th>\n",
              "      <th>high</th>\n",
              "      <th>low</th>\n",
              "      <th>close</th>\n",
              "      <th>volume</th>\n",
              "      <th>macd</th>\n",
              "    </tr>\n",
              "  </thead>\n",
              "  <tbody>\n",
              "    <tr>\n",
              "      <th>4016</th>\n",
              "      <td>2021-02-25</td>\n",
              "      <td>135.05</td>\n",
              "      <td>137.50</td>\n",
              "      <td>135.05</td>\n",
              "      <td>137.25</td>\n",
              "      <td>63116.0</td>\n",
              "      <td>-2.118630</td>\n",
              "    </tr>\n",
              "    <tr>\n",
              "      <th>4017</th>\n",
              "      <td>2021-02-26</td>\n",
              "      <td>138.00</td>\n",
              "      <td>138.60</td>\n",
              "      <td>137.00</td>\n",
              "      <td>137.25</td>\n",
              "      <td>419812.0</td>\n",
              "      <td>-2.245407</td>\n",
              "    </tr>\n",
              "    <tr>\n",
              "      <th>4018</th>\n",
              "      <td>2021-03-01</td>\n",
              "      <td>137.25</td>\n",
              "      <td>137.75</td>\n",
              "      <td>137.25</td>\n",
              "      <td>137.65</td>\n",
              "      <td>17681.0</td>\n",
              "      <td>-2.287236</td>\n",
              "    </tr>\n",
              "    <tr>\n",
              "      <th>4019</th>\n",
              "      <td>2021-03-02</td>\n",
              "      <td>137.65</td>\n",
              "      <td>138.00</td>\n",
              "      <td>137.65</td>\n",
              "      <td>138.00</td>\n",
              "      <td>16230.0</td>\n",
              "      <td>-2.266022</td>\n",
              "    </tr>\n",
              "    <tr>\n",
              "      <th>4020</th>\n",
              "      <td>2021-03-03</td>\n",
              "      <td>137.75</td>\n",
              "      <td>138.00</td>\n",
              "      <td>137.60</td>\n",
              "      <td>137.75</td>\n",
              "      <td>44081.0</td>\n",
              "      <td>-2.243521</td>\n",
              "    </tr>\n",
              "  </tbody>\n",
              "</table>\n",
              "</div>"
            ],
            "text/plain": [
              "       datadate    open    high     low   close    volume      macd\n",
              "4016 2021-02-25  135.05  137.50  135.05  137.25   63116.0 -2.118630\n",
              "4017 2021-02-26  138.00  138.60  137.00  137.25  419812.0 -2.245407\n",
              "4018 2021-03-01  137.25  137.75  137.25  137.65   17681.0 -2.287236\n",
              "4019 2021-03-02  137.65  138.00  137.65  138.00   16230.0 -2.266022\n",
              "4020 2021-03-03  137.75  138.00  137.60  137.75   44081.0 -2.243521"
            ]
          },
          "metadata": {
            "tags": []
          },
          "execution_count": 159
        }
      ]
    },
    {
      "cell_type": "markdown",
      "metadata": {
        "id": "Q1yT6KH5Rgmg"
      },
      "source": [
        "# Part 3: Design Environment\r\n",
        "Considering the stochastic and interactive nature of the automated stock trading tasks, a financial task is modeled as a Markov Decision Process (MDP) problem. The training process involves observing stock price change, taking an action and reward's calculation to have the agent adjusting its strategy accordingly. By interacting with the environment, the trading agent will derive a trading strategy with the maximized rewards as time proceeds.\r\n",
        "\r\n",
        "Our trading environments, based on OpenAI Gym framework, simulate live stock markets with real market data according to the principle of time-driven simulation.\r\n",
        "\r\n",
        "The action space describes the allowed actions that the agent interacts with the environment. Normally, action a includes three actions: {-1, 0, 1}, where -1, 0, 1 represent selling, holding, and buying one share. Also, an action can be carried upon multiple shares. We use an action space {-k,…,-1, 0, 1, …, k}, where k denotes the number of shares to buy and -k denotes the number of shares to sell. For example, \"Buy 10 shares of IAM\" or \"Sell 10 shares of IAM\" are 10 or -10, respectively. The continuous action space needs to be normalized to [-1, 1], since the policy is defined on a Gaussian distribution, which needs to be normalized and symmetric."
      ]
    },
    {
      "cell_type": "code",
      "metadata": {
        "id": "vvFaKVT1RcYl"
      },
      "source": [
        "import numpy as np\r\n",
        "import pandas as pd\r\n",
        "from gym.utils import seeding\r\n",
        "import gym\r\n",
        "from gym import spaces\r\n",
        "import matplotlib\r\n",
        "matplotlib.use('Agg')\r\n",
        "import matplotlib.pyplot as plt\r\n",
        "\r\n",
        "# Global variables\r\n",
        "HMAX_NORMALIZE = 200\r\n",
        "INITIAL_ACCOUNT_BALANCE=100000\r\n",
        "STOCK_DIM = 1\r\n",
        "\r\n",
        "# transaction fee: 1/1000 reasonable percentage\r\n",
        "TRANSACTION_FEE_PERCENT = 0.001\r\n",
        "# REWARD_SCALING = 1e-3\r\n",
        "\r\n",
        "\r\n",
        "class SingleStockEnv(gym.Env):\r\n",
        "    \"\"\"A stock trading environment for OpenAI gym\"\"\"\r\n",
        "    metadata = {'render.modes': ['human']}\r\n",
        "\r\n",
        "    def __init__(self, df,day = 0):\r\n",
        "        #super(StockEnv, self).__init__()\r\n",
        "        # date increment\r\n",
        "        self.day = day\r\n",
        "        self.df = df\r\n",
        "        # action_space normalization and the shape is STOCK_DIM\r\n",
        "        self.action_space = spaces.Box(low = -1, high = 1,shape = (STOCK_DIM,)) \r\n",
        "        # Shape = 4: [Current Balance]+[prices]+[owned shares] +[macd] \r\n",
        "        self.observation_space = spaces.Box(low=0, high=np.inf, shape = (4,))\r\n",
        "        # load data from a pandas dataframe\r\n",
        "        self.data = self.df.loc[self.day,:]\r\n",
        "        # termination\r\n",
        "        self.terminal = False  \r\n",
        "        # save the total number of trades\r\n",
        "        self.trades = 0\r\n",
        "        # initalize state\r\n",
        "        self.state = [INITIAL_ACCOUNT_BALANCE] + \\\r\n",
        "                      [self.data.close] + \\\r\n",
        "                      [0]*STOCK_DIM + \\\r\n",
        "                      [self.data.macd] \r\n",
        "        # initialize reward and cost\r\n",
        "        self.reward = 0\r\n",
        "        self.cost = 0\r\n",
        "        \r\n",
        "        # memorize the total value, total rewards\r\n",
        "        self.asset_memory = [INITIAL_ACCOUNT_BALANCE]\r\n",
        "        self.rewards_memory = []\r\n",
        "\r\n",
        "    def _sell_stock(self, index, action):\r\n",
        "        # perform sell action based on the sign of the action\r\n",
        "        if self.state[index+STOCK_DIM+1] > 0:\r\n",
        "            # update balance\r\n",
        "            self.state[0] += \\\r\n",
        "            self.state[index+1]*min(abs(action),self.state[index+STOCK_DIM+1]) * \\\r\n",
        "             (1- TRANSACTION_FEE_PERCENT)\r\n",
        "            # update held shares\r\n",
        "            self.state[index+STOCK_DIM+1] -= min(abs(action), self.state[index+STOCK_DIM+1])\r\n",
        "            # update transaction costs\r\n",
        "            self.cost +=self.state[index+1]*min(abs(action),self.state[index+STOCK_DIM+1]) * \\\r\n",
        "             TRANSACTION_FEE_PERCENT\r\n",
        "            self.trades+=1\r\n",
        "        else:\r\n",
        "            pass\r\n",
        "            \r\n",
        "    def _buy_stock(self, index, action):\r\n",
        "        # perform buy action based on the sign of the action\r\n",
        "        available_amount = self.state[0] // self.state[index+1]\r\n",
        "        #update balance\r\n",
        "        self.state[0] -= self.state[index+1]*min(available_amount, action)* \\\r\n",
        "                          (1+ TRANSACTION_FEE_PERCENT)\r\n",
        "        # update held shares\r\n",
        "        self.state[index+STOCK_DIM+1] += min(available_amount, action)\r\n",
        "        # update transaction costs\r\n",
        "        self.cost+=self.state[index+1]*min(available_amount, action)* \\\r\n",
        "                          TRANSACTION_FEE_PERCENT\r\n",
        "        self.trades+=1\r\n",
        "        \r\n",
        "    def step(self, actions):\r\n",
        "        self.terminal = self.day >= len(self.df.index.unique())-1\r\n",
        "\r\n",
        "        if self.terminal:\r\n",
        "            plt.plot(self.asset_memory,'r')\r\n",
        "            plt.savefig('account_value.png')\r\n",
        "            plt.close()\r\n",
        "            \r\n",
        "            end_total_asset = self.state[0]+ \\\r\n",
        "            sum(np.array(self.state[1:(STOCK_DIM+1)])*np.array(self.state[(STOCK_DIM+1):(STOCK_DIM*2+1)]))\r\n",
        "            print(\"previous_total_asset:{}\".format(self.asset_memory[0])) \r\n",
        "            print(\"end_total_asset:{}\".format(end_total_asset))\r\n",
        "            \r\n",
        "            df_total_value = pd.DataFrame(self.asset_memory)\r\n",
        "            df_total_value.to_csv('account_value.csv')\r\n",
        "            print(\"total_reward:{}\".format(self.state[0]+sum(np.array(self.state[1:(STOCK_DIM+1)])*np.array(self.state[(STOCK_DIM+1):(STOCK_DIM*2+1)]))- INITIAL_ACCOUNT_BALANCE ))\r\n",
        "            print(\"total_cost: \", self.cost)\r\n",
        "            print(\"total trades: \", self.trades)\r\n",
        "            \r\n",
        "            df_total_value.columns = ['account_value']\r\n",
        "            df_total_value['daily_return']=df_total_value.pct_change(1)\r\n",
        "            \r\n",
        "            if df_total_value['daily_return'].std()!=0:\r\n",
        "                sharpe = (252**0.5)*df_total_value['daily_return'].mean()/ \\\r\n",
        "                      df_total_value['daily_return'].std()\r\n",
        "                print(\"Sharpe: \",sharpe)\r\n",
        "            df_rewards = pd.DataFrame(self.rewards_memory)\r\n",
        "            df_rewards.to_csv('account_rewards.csv')\r\n",
        "            return self.state, self.reward, self.terminal,{}\r\n",
        "\r\n",
        "        else:\r\n",
        "            \r\n",
        "            # actions are the shares we need to buy, hold, or sell\r\n",
        "            actions = actions * HMAX_NORMALIZE\r\n",
        "            # calculate begining total asset\r\n",
        "            begin_total_asset = self.state[0]+ \\\r\n",
        "            sum(np.array(self.state[1:(STOCK_DIM+1)])*np.array(self.state[(STOCK_DIM+1):(STOCK_DIM*2+1)]))\r\n",
        "            \r\n",
        "            # perform buy or sell action\r\n",
        "            argsort_actions = np.argsort(actions)\r\n",
        "            sell_index = argsort_actions[:np.where(actions < 0)[0].shape[0]]\r\n",
        "            buy_index = argsort_actions[::-1][:np.where(actions > 0)[0].shape[0]]\r\n",
        "\r\n",
        "            for index in sell_index:\r\n",
        "                # print('take sell action'.format(actions[index]))\r\n",
        "                self._sell_stock(index, actions[index])\r\n",
        "\r\n",
        "            for index in buy_index:\r\n",
        "                # print('take buy action: {}'.format(actions[index]))\r\n",
        "                self._buy_stock(index, actions[index])\r\n",
        "            \r\n",
        "            # update data, walk a step s'\r\n",
        "            self.day += 1\r\n",
        "            self.data = self.df.loc[self.day,:]         \r\n",
        "            #load next state\r\n",
        "            self.state =  [self.state[0]] + \\\r\n",
        "                          [self.data.close] + \\\r\n",
        "                          list(self.state[(STOCK_DIM+1):(STOCK_DIM*2+1)]) +\\\r\n",
        "                          [self.data.macd]\r\n",
        "                        \r\n",
        "            # calculate the end total asset\r\n",
        "            end_total_asset = self.state[0]+ \\\r\n",
        "            sum(np.array(self.state[1:(STOCK_DIM+1)])*np.array(self.state[(STOCK_DIM+1):(STOCK_DIM*2+1)]))\r\n",
        "            self.reward = end_total_asset - begin_total_asset  \r\n",
        "            self.rewards_memory.append(self.reward)\r\n",
        "            #self.reward = self.reward * REWARD_SCALING\r\n",
        "            self.asset_memory.append(end_total_asset)\r\n",
        "\r\n",
        "        return self.state, self.reward, self.terminal, {}\r\n",
        "\r\n",
        "    def reset(self):\r\n",
        "        self.asset_memory = [INITIAL_ACCOUNT_BALANCE]\r\n",
        "        self.day = 0\r\n",
        "        self.data = self.df.loc[self.day,:]\r\n",
        "        self.cost = 0\r\n",
        "        self.trades = 0\r\n",
        "        self.terminal = False \r\n",
        "        self.rewards_memory = []\r\n",
        "        #initiate state\r\n",
        "        self.state = [INITIAL_ACCOUNT_BALANCE] + \\\r\n",
        "                      [self.data.close] + \\\r\n",
        "                      [0]*STOCK_DIM + \\\r\n",
        "                      [self.data.macd]\r\n",
        "        return self.state\r\n",
        "    \r\n",
        "    def render(self, mode='human'):\r\n",
        "        return self.state\r\n",
        "\r\n",
        "    def _seed(self, seed=None):\r\n",
        "        self.np_random, seed = seeding.np_random(seed)\r\n",
        "        return [seed]"
      ],
      "execution_count": null,
      "outputs": []
    },
    {
      "cell_type": "markdown",
      "metadata": {
        "id": "bEjrdUmRSRS5"
      },
      "source": [
        "# Part 4: Implement DRL Algorithms\r\n",
        "The implementation of the DRL algorithms are based on OpenAI Baselines and Stable Baselines. Stable Baselines is a fork of OpenAI Baselines, with a major structural refactoring, and code cleanups."
      ]
    },
    {
      "cell_type": "markdown",
      "metadata": {
        "id": "8OCxwB2bSrY3"
      },
      "source": [
        "# Training data: 2005-01-03 to 2019-01-01"
      ]
    },
    {
      "cell_type": "code",
      "metadata": {
        "id": "LKFd_fXmSOLy"
      },
      "source": [
        "train = data_clean[(data_clean.datadate>='1/3/2005') & (data_clean.datadate<'1/1/2019')]\r\n",
        "# the index needs to start from 0\r\n",
        "train=train.reset_index(drop=True)"
      ],
      "execution_count": null,
      "outputs": []
    },
    {
      "cell_type": "code",
      "metadata": {
        "colab": {
          "base_uri": "https://localhost:8080/",
          "height": 204
        },
        "id": "MooeVqYETMeM",
        "outputId": "aacb86e7-5302-4ccc-9bd0-a592101c9352"
      },
      "source": [
        "train.head()"
      ],
      "execution_count": null,
      "outputs": [
        {
          "output_type": "execute_result",
          "data": {
            "text/html": [
              "<div>\n",
              "<style scoped>\n",
              "    .dataframe tbody tr th:only-of-type {\n",
              "        vertical-align: middle;\n",
              "    }\n",
              "\n",
              "    .dataframe tbody tr th {\n",
              "        vertical-align: top;\n",
              "    }\n",
              "\n",
              "    .dataframe thead th {\n",
              "        text-align: right;\n",
              "    }\n",
              "</style>\n",
              "<table border=\"1\" class=\"dataframe\">\n",
              "  <thead>\n",
              "    <tr style=\"text-align: right;\">\n",
              "      <th></th>\n",
              "      <th>datadate</th>\n",
              "      <th>open</th>\n",
              "      <th>high</th>\n",
              "      <th>low</th>\n",
              "      <th>close</th>\n",
              "      <th>volume</th>\n",
              "      <th>macd</th>\n",
              "    </tr>\n",
              "  </thead>\n",
              "  <tbody>\n",
              "    <tr>\n",
              "      <th>0</th>\n",
              "      <td>2005-01-03</td>\n",
              "      <td>83.52</td>\n",
              "      <td>84.46</td>\n",
              "      <td>83.52</td>\n",
              "      <td>83.81</td>\n",
              "      <td>292929.17</td>\n",
              "      <td>0.000000</td>\n",
              "    </tr>\n",
              "    <tr>\n",
              "      <th>1</th>\n",
              "      <td>2005-01-04</td>\n",
              "      <td>83.81</td>\n",
              "      <td>83.81</td>\n",
              "      <td>81.79</td>\n",
              "      <td>82.92</td>\n",
              "      <td>119242.71</td>\n",
              "      <td>-0.019968</td>\n",
              "    </tr>\n",
              "    <tr>\n",
              "      <th>2</th>\n",
              "      <td>2005-01-05</td>\n",
              "      <td>83.52</td>\n",
              "      <td>83.52</td>\n",
              "      <td>81.79</td>\n",
              "      <td>83.31</td>\n",
              "      <td>154219.79</td>\n",
              "      <td>-0.013349</td>\n",
              "    </tr>\n",
              "    <tr>\n",
              "      <th>3</th>\n",
              "      <td>2005-01-06</td>\n",
              "      <td>83.04</td>\n",
              "      <td>83.39</td>\n",
              "      <td>82.10</td>\n",
              "      <td>82.52</td>\n",
              "      <td>256865.62</td>\n",
              "      <td>-0.038534</td>\n",
              "    </tr>\n",
              "    <tr>\n",
              "      <th>4</th>\n",
              "      <td>2005-01-07</td>\n",
              "      <td>81.60</td>\n",
              "      <td>82.08</td>\n",
              "      <td>80.64</td>\n",
              "      <td>81.60</td>\n",
              "      <td>460147.92</td>\n",
              "      <td>-0.088017</td>\n",
              "    </tr>\n",
              "  </tbody>\n",
              "</table>\n",
              "</div>"
            ],
            "text/plain": [
              "    datadate   open   high    low  close     volume      macd\n",
              "0 2005-01-03  83.52  84.46  83.52  83.81  292929.17  0.000000\n",
              "1 2005-01-04  83.81  83.81  81.79  82.92  119242.71 -0.019968\n",
              "2 2005-01-05  83.52  83.52  81.79  83.31  154219.79 -0.013349\n",
              "3 2005-01-06  83.04  83.39  82.10  82.52  256865.62 -0.038534\n",
              "4 2005-01-07  81.60  82.08  80.64  81.60  460147.92 -0.088017"
            ]
          },
          "metadata": {
            "tags": []
          },
          "execution_count": 162
        }
      ]
    },
    {
      "cell_type": "code",
      "metadata": {
        "colab": {
          "base_uri": "https://localhost:8080/",
          "height": 204
        },
        "id": "6u-TxCQ2TOnQ",
        "outputId": "575b7b1b-34bc-4ba4-b7e6-dbc9b3963cb5"
      },
      "source": [
        "train.tail()"
      ],
      "execution_count": null,
      "outputs": [
        {
          "output_type": "execute_result",
          "data": {
            "text/html": [
              "<div>\n",
              "<style scoped>\n",
              "    .dataframe tbody tr th:only-of-type {\n",
              "        vertical-align: middle;\n",
              "    }\n",
              "\n",
              "    .dataframe tbody tr th {\n",
              "        vertical-align: top;\n",
              "    }\n",
              "\n",
              "    .dataframe thead th {\n",
              "        text-align: right;\n",
              "    }\n",
              "</style>\n",
              "<table border=\"1\" class=\"dataframe\">\n",
              "  <thead>\n",
              "    <tr style=\"text-align: right;\">\n",
              "      <th></th>\n",
              "      <th>datadate</th>\n",
              "      <th>open</th>\n",
              "      <th>high</th>\n",
              "      <th>low</th>\n",
              "      <th>close</th>\n",
              "      <th>volume</th>\n",
              "      <th>macd</th>\n",
              "    </tr>\n",
              "  </thead>\n",
              "  <tbody>\n",
              "    <tr>\n",
              "      <th>3481</th>\n",
              "      <td>2018-12-25</td>\n",
              "      <td>140.50</td>\n",
              "      <td>141.0</td>\n",
              "      <td>140.05</td>\n",
              "      <td>140.35</td>\n",
              "      <td>607911.0</td>\n",
              "      <td>0.059096</td>\n",
              "    </tr>\n",
              "    <tr>\n",
              "      <th>3482</th>\n",
              "      <td>2018-12-26</td>\n",
              "      <td>140.35</td>\n",
              "      <td>141.0</td>\n",
              "      <td>140.35</td>\n",
              "      <td>141.00</td>\n",
              "      <td>1722.0</td>\n",
              "      <td>0.083712</td>\n",
              "    </tr>\n",
              "    <tr>\n",
              "      <th>3483</th>\n",
              "      <td>2018-12-27</td>\n",
              "      <td>140.65</td>\n",
              "      <td>141.5</td>\n",
              "      <td>140.65</td>\n",
              "      <td>141.00</td>\n",
              "      <td>82270.0</td>\n",
              "      <td>0.102044</td>\n",
              "    </tr>\n",
              "    <tr>\n",
              "      <th>3484</th>\n",
              "      <td>2018-12-28</td>\n",
              "      <td>141.00</td>\n",
              "      <td>141.1</td>\n",
              "      <td>140.55</td>\n",
              "      <td>140.55</td>\n",
              "      <td>213792.0</td>\n",
              "      <td>0.079347</td>\n",
              "    </tr>\n",
              "    <tr>\n",
              "      <th>3485</th>\n",
              "      <td>2018-12-31</td>\n",
              "      <td>140.55</td>\n",
              "      <td>141.5</td>\n",
              "      <td>140.55</td>\n",
              "      <td>141.50</td>\n",
              "      <td>42164.0</td>\n",
              "      <td>0.136443</td>\n",
              "    </tr>\n",
              "  </tbody>\n",
              "</table>\n",
              "</div>"
            ],
            "text/plain": [
              "       datadate    open   high     low   close    volume      macd\n",
              "3481 2018-12-25  140.50  141.0  140.05  140.35  607911.0  0.059096\n",
              "3482 2018-12-26  140.35  141.0  140.35  141.00    1722.0  0.083712\n",
              "3483 2018-12-27  140.65  141.5  140.65  141.00   82270.0  0.102044\n",
              "3484 2018-12-28  141.00  141.1  140.55  140.55  213792.0  0.079347\n",
              "3485 2018-12-31  140.55  141.5  140.55  141.50   42164.0  0.136443"
            ]
          },
          "metadata": {
            "tags": []
          },
          "execution_count": 163
        }
      ]
    },
    {
      "cell_type": "markdown",
      "metadata": {
        "id": "MaGA4tLZWgZl"
      },
      "source": [
        "### Model Training: 4 models, PPO A2C, DDPG, TD3 "
      ]
    },
    {
      "cell_type": "markdown",
      "metadata": {
        "id": "rwEULYojWhmM"
      },
      "source": [
        "### Model 1: PPO"
      ]
    },
    {
      "cell_type": "code",
      "metadata": {
        "colab": {
          "base_uri": "https://localhost:8080/"
        },
        "id": "3mMJvossWeX2",
        "outputId": "330482e7-469f-4ebc-d172-de8d8d709c70"
      },
      "source": [
        "#tensorboard --logdir ./single_stock_tensorboard/\r\n",
        "env_train = DummyVecEnv([lambda: SingleStockEnv(train)])\r\n",
        "model_ppo = PPO2('MlpPolicy', env_train, tensorboard_log=\"./single_stock_trading_2_tensorboard/\")\r\n",
        "model_ppo.learn(total_timesteps=100000,tb_log_name=\"run_iam_ppo\")\r\n",
        "#model.save('IAM_ppo_100k')"
      ],
      "execution_count": null,
      "outputs": [
        {
          "output_type": "stream",
          "text": [
            "previous_total_asset:100000\n",
            "end_total_asset:98425.86337937131\n",
            "total_reward:-1574.1366206286912\n",
            "total_cost:  42956.71229742769\n",
            "total trades:  3373\n",
            "Sharpe:  0.04415264742882752\n",
            "previous_total_asset:100000\n",
            "end_total_asset:101376.73714707542\n",
            "total_reward:1376.7371470754151\n",
            "total_cost:  45665.57910341529\n",
            "total trades:  3458\n",
            "Sharpe:  0.07695448181642654\n",
            "previous_total_asset:100000\n",
            "end_total_asset:113831.06641127024\n",
            "total_reward:13831.066411270236\n",
            "total_cost:  45858.935089535364\n",
            "total trades:  3462\n",
            "Sharpe:  0.13713351576833158\n",
            "previous_total_asset:100000\n",
            "end_total_asset:111773.30982581011\n",
            "total_reward:11773.309825810109\n",
            "total_cost:  45394.77992266828\n",
            "total trades:  3461\n",
            "Sharpe:  0.1282506449196668\n",
            "previous_total_asset:100000\n",
            "end_total_asset:142740.2326434331\n",
            "total_reward:42740.23264343309\n",
            "total_cost:  48393.93328317969\n",
            "total trades:  3471\n",
            "Sharpe:  0.2574128775272\n",
            "previous_total_asset:100000\n",
            "end_total_asset:106820.47954558159\n",
            "total_reward:6820.479545581591\n",
            "total_cost:  44702.52673222165\n",
            "total trades:  3472\n",
            "Sharpe:  0.10621696075476722\n",
            "previous_total_asset:100000\n",
            "end_total_asset:98279.31857360431\n",
            "total_reward:-1720.6814263956912\n",
            "total_cost:  39658.11475793784\n",
            "total trades:  3476\n",
            "Sharpe:  0.06692658277233264\n",
            "previous_total_asset:100000\n",
            "end_total_asset:144457.05029604\n",
            "total_reward:44457.05029603999\n",
            "total_cost:  37897.69571478012\n",
            "total trades:  3484\n",
            "Sharpe:  0.24615679757515313\n",
            "previous_total_asset:100000\n",
            "end_total_asset:106264.11336486778\n",
            "total_reward:6264.113364867779\n",
            "total_cost:  43697.91414411863\n",
            "total trades:  3481\n",
            "Sharpe:  0.10385950809076903\n",
            "previous_total_asset:100000\n",
            "end_total_asset:115889.00166984943\n",
            "total_reward:15889.00166984943\n",
            "total_cost:  40899.06597808351\n",
            "total trades:  3477\n",
            "Sharpe:  0.14650115586666732\n",
            "previous_total_asset:100000\n",
            "end_total_asset:111153.52729220607\n",
            "total_reward:11153.527292206069\n",
            "total_cost:  41612.57602101266\n",
            "total trades:  3476\n",
            "Sharpe:  0.1263098347379414\n",
            "previous_total_asset:100000\n",
            "end_total_asset:119223.0425348198\n",
            "total_reward:19223.042534819804\n",
            "total_cost:  32946.269909371535\n",
            "total trades:  3482\n",
            "Sharpe:  0.1598141966568746\n",
            "previous_total_asset:100000\n",
            "end_total_asset:137201.82357426532\n",
            "total_reward:37201.82357426532\n",
            "total_cost:  34360.751434629805\n",
            "total trades:  3483\n",
            "Sharpe:  0.22214475790025578\n",
            "previous_total_asset:100000\n",
            "end_total_asset:127413.68858709157\n",
            "total_reward:27413.688587091572\n",
            "total_cost:  33280.90903702518\n",
            "total trades:  3481\n",
            "Sharpe:  0.18899807129595103\n",
            "previous_total_asset:100000\n",
            "end_total_asset:137801.90310486412\n",
            "total_reward:37801.90310486412\n",
            "total_cost:  33149.75740449856\n",
            "total trades:  3484\n",
            "Sharpe:  0.22269175975024763\n",
            "previous_total_asset:100000\n",
            "end_total_asset:124303.88297924078\n",
            "total_reward:24303.882979240778\n",
            "total_cost:  19306.07416433642\n",
            "total trades:  3485\n",
            "Sharpe:  0.17788962479753123\n",
            "previous_total_asset:100000\n",
            "end_total_asset:155130.4676008409\n",
            "total_reward:55130.4676008409\n",
            "total_cost:  24748.52651936255\n",
            "total trades:  3485\n",
            "Sharpe:  0.27127709729852634\n",
            "previous_total_asset:100000\n",
            "end_total_asset:141504.13879338955\n",
            "total_reward:41504.138793389546\n",
            "total_cost:  24666.5750211995\n",
            "total trades:  3485\n",
            "Sharpe:  0.23328966607623305\n",
            "previous_total_asset:100000\n",
            "end_total_asset:145705.21067541698\n",
            "total_reward:45705.21067541698\n",
            "total_cost:  24019.47667971648\n",
            "total trades:  3485\n",
            "Sharpe:  0.24468422078563423\n",
            "previous_total_asset:100000\n",
            "end_total_asset:140847.82044951065\n",
            "total_reward:40847.82044951065\n",
            "total_cost:  25461.642373066457\n",
            "total trades:  3485\n",
            "Sharpe:  0.23096518811318964\n",
            "previous_total_asset:100000\n",
            "end_total_asset:156552.57603161025\n",
            "total_reward:56552.57603161025\n",
            "total_cost:  24882.392285766306\n",
            "total trades:  3485\n",
            "Sharpe:  0.2756509915806338\n",
            "previous_total_asset:100000\n",
            "end_total_asset:130767.07211176516\n",
            "total_reward:30767.072111765156\n",
            "total_cost:  25249.175932159626\n",
            "total trades:  3485\n",
            "Sharpe:  0.1991963442136263\n",
            "previous_total_asset:100000\n",
            "end_total_asset:149366.46259245378\n",
            "total_reward:49366.46259245378\n",
            "total_cost:  24140.652900396857\n",
            "total trades:  3485\n",
            "Sharpe:  0.2556149308554853\n",
            "previous_total_asset:100000\n",
            "end_total_asset:151987.76543361\n",
            "total_reward:51987.76543361001\n",
            "total_cost:  25516.11667771193\n",
            "total trades:  3485\n",
            "Sharpe:  0.263035257373578\n",
            "previous_total_asset:100000\n",
            "end_total_asset:132648.3352173122\n",
            "total_reward:32648.33521731221\n",
            "total_cost:  24953.1603921157\n",
            "total trades:  3485\n",
            "Sharpe:  0.2054387762193926\n",
            "previous_total_asset:100000\n",
            "end_total_asset:143763.24464684085\n",
            "total_reward:43763.244646840845\n",
            "total_cost:  20572.429268532218\n",
            "total trades:  3485\n",
            "Sharpe:  0.23879824979806766\n",
            "previous_total_asset:100000\n",
            "end_total_asset:144779.80858947986\n",
            "total_reward:44779.80858947986\n",
            "total_cost:  20378.973883227183\n",
            "total trades:  3485\n",
            "Sharpe:  0.2423471605650935\n",
            "previous_total_asset:100000\n",
            "end_total_asset:149112.5253573625\n",
            "total_reward:49112.525357362494\n",
            "total_cost:  17552.31672903946\n",
            "total trades:  3485\n",
            "Sharpe:  0.2539115481086054\n"
          ],
          "name": "stdout"
        },
        {
          "output_type": "execute_result",
          "data": {
            "text/plain": [
              "<stable_baselines.ppo2.ppo2.PPO2 at 0x7f5da7ebad90>"
            ]
          },
          "metadata": {
            "tags": []
          },
          "execution_count": 166
        }
      ]
    },
    {
      "cell_type": "markdown",
      "metadata": {
        "id": "utF4GqqQYtNi"
      },
      "source": [
        "### Model 2: DDPG"
      ]
    },
    {
      "cell_type": "code",
      "metadata": {
        "colab": {
          "base_uri": "https://localhost:8080/"
        },
        "id": "XjCUM677T2Vc",
        "outputId": "c8f032d1-e922-4d75-b07f-2a46b818b3ee"
      },
      "source": [
        "#tensorboard --logdir ./single_stock_tensorboard/\r\n",
        "env_train = DummyVecEnv([lambda: SingleStockEnv(train)])\r\n",
        "model_ddpg = DDPG('MlpPolicy', env_train, tensorboard_log=\"./single_stock_trading_2_tensorboard/\")\r\n",
        "model_ddpg.learn(total_timesteps=100000, tb_log_name=\"run_iam_ddpg\")\r\n",
        "#model.save('IAM_ddpg_50k')"
      ],
      "execution_count": 225,
      "outputs": [
        {
          "output_type": "stream",
          "text": [
            "previous_total_asset:100000\n",
            "end_total_asset:133132.91422276365\n",
            "total_reward:33132.91422276365\n",
            "total_cost:  99.82691723955155\n",
            "total trades:  3485\n",
            "Sharpe:  0.20685967314863335\n",
            "previous_total_asset:100000\n",
            "end_total_asset:170901.02523880525\n",
            "total_reward:70901.02523880525\n",
            "total_cost:  99.85745681243897\n",
            "total trades:  3485\n",
            "Sharpe:  0.30725223193595425\n",
            "previous_total_asset:100000\n",
            "end_total_asset:170922.17797571627\n",
            "total_reward:70922.17797571627\n",
            "total_cost:  99.88769109283446\n",
            "total trades:  3485\n",
            "Sharpe:  0.30727706445316777\n",
            "previous_total_asset:100000\n",
            "end_total_asset:173179.8382860585\n",
            "total_reward:73179.83828605851\n",
            "total_cost:  249.41983877365118\n",
            "total trades:  3350\n",
            "Sharpe:  0.3133522735393781\n",
            "previous_total_asset:100000\n",
            "end_total_asset:100000.0\n",
            "total_reward:0.0\n",
            "total_cost:  0\n",
            "total trades:  0\n",
            "previous_total_asset:100000\n",
            "end_total_asset:100000.0\n",
            "total_reward:0.0\n",
            "total_cost:  0\n",
            "total trades:  0\n",
            "previous_total_asset:100000\n",
            "end_total_asset:100000.0\n",
            "total_reward:0.0\n",
            "total_cost:  0\n",
            "total trades:  0\n",
            "previous_total_asset:100000\n",
            "end_total_asset:119888.46204716284\n",
            "total_reward:19888.462047162844\n",
            "total_cost:  5692.6610441885905\n",
            "total trades:  970\n",
            "Sharpe:  0.18861641692054934\n",
            "previous_total_asset:100000\n",
            "end_total_asset:117586.2567539424\n",
            "total_reward:17586.256753942405\n",
            "total_cost:  7084.626323667622\n",
            "total trades:  1051\n",
            "Sharpe:  0.17041554951252041\n",
            "previous_total_asset:100000\n",
            "end_total_asset:111539.6661233464\n",
            "total_reward:11539.666123346396\n",
            "total_cost:  5671.957955471153\n",
            "total trades:  876\n",
            "Sharpe:  0.13214434391863833\n",
            "previous_total_asset:100000\n",
            "end_total_asset:107529.27622940883\n",
            "total_reward:7529.276229408832\n",
            "total_cost:  4972.72392695826\n",
            "total trades:  825\n",
            "Sharpe:  0.10301638802778554\n",
            "previous_total_asset:100000\n",
            "end_total_asset:108265.2758499897\n",
            "total_reward:8265.275849989703\n",
            "total_cost:  4754.683042800158\n",
            "total trades:  783\n",
            "Sharpe:  0.10870146529719744\n",
            "previous_total_asset:100000\n",
            "end_total_asset:96495.3706682821\n",
            "total_reward:-3504.6293317178934\n",
            "total_cost:  4071.1304725942246\n",
            "total trades:  761\n",
            "Sharpe:  0.017201208473012198\n",
            "previous_total_asset:100000\n",
            "end_total_asset:108000.60235542369\n",
            "total_reward:8000.602355423689\n",
            "total_cost:  4456.939020807285\n",
            "total trades:  757\n",
            "Sharpe:  0.10668506071819191\n",
            "previous_total_asset:100000\n",
            "end_total_asset:105863.97638518843\n",
            "total_reward:5863.9763851884345\n",
            "total_cost:  4807.6638255375965\n",
            "total trades:  772\n",
            "Sharpe:  0.0906504220116228\n",
            "previous_total_asset:100000\n",
            "end_total_asset:116217.36024822883\n",
            "total_reward:16217.360248228826\n",
            "total_cost:  5427.0687328245585\n",
            "total trades:  775\n",
            "Sharpe:  0.16812206087453335\n",
            "previous_total_asset:100000\n",
            "end_total_asset:114127.07410957685\n",
            "total_reward:14127.074109576846\n",
            "total_cost:  5674.954263531376\n",
            "total trades:  790\n",
            "Sharpe:  0.1525349327181447\n",
            "previous_total_asset:100000\n",
            "end_total_asset:114798.05642730463\n",
            "total_reward:14798.056427304633\n",
            "total_cost:  5830.626690593202\n",
            "total trades:  797\n",
            "Sharpe:  0.15715543567119555\n",
            "previous_total_asset:100000\n",
            "end_total_asset:109701.98147832107\n",
            "total_reward:9701.981478321075\n",
            "total_cost:  5752.844955353085\n",
            "total trades:  787\n",
            "Sharpe:  0.11888505681832025\n",
            "previous_total_asset:100000\n",
            "end_total_asset:123354.19694682874\n",
            "total_reward:23354.196946828743\n",
            "total_cost:  6277.528202725246\n",
            "total trades:  748\n",
            "Sharpe:  0.2194389070055034\n",
            "previous_total_asset:100000\n",
            "end_total_asset:123772.6593987255\n",
            "total_reward:23772.659398725504\n",
            "total_cost:  6267.82679872925\n",
            "total trades:  722\n",
            "Sharpe:  0.22303179087767866\n",
            "previous_total_asset:100000\n",
            "end_total_asset:127630.40283639113\n",
            "total_reward:27630.402836391135\n",
            "total_cost:  6236.750329457819\n",
            "total trades:  685\n",
            "Sharpe:  0.2516298645960071\n",
            "previous_total_asset:100000\n",
            "end_total_asset:129174.54922147896\n",
            "total_reward:29174.549221478956\n",
            "total_cost:  5689.229399358749\n",
            "total trades:  512\n",
            "Sharpe:  0.33161187958179483\n",
            "previous_total_asset:100000\n",
            "end_total_asset:105465.44645665419\n",
            "total_reward:5465.4464566541865\n",
            "total_cost:  5456.006919482801\n",
            "total trades:  467\n",
            "Sharpe:  0.09894359664902398\n",
            "previous_total_asset:100000\n",
            "end_total_asset:108351.31369881298\n",
            "total_reward:8351.313698812985\n",
            "total_cost:  4145.467156794947\n",
            "total trades:  371\n",
            "Sharpe:  0.13697867838219718\n",
            "previous_total_asset:100000\n",
            "end_total_asset:112078.843103388\n",
            "total_reward:12078.843103388004\n",
            "total_cost:  2562.4537257584198\n",
            "total trades:  248\n",
            "Sharpe:  0.18891928507263314\n",
            "previous_total_asset:100000\n",
            "end_total_asset:111743.10431744799\n",
            "total_reward:11743.104317447986\n",
            "total_cost:  2269.225136791039\n",
            "total trades:  226\n",
            "Sharpe:  0.18373683680766548\n",
            "previous_total_asset:100000\n",
            "end_total_asset:111511.90639624641\n",
            "total_reward:11511.906396246413\n",
            "total_cost:  3455.104122549095\n",
            "total trades:  319\n",
            "Sharpe:  0.1800110598244411\n"
          ],
          "name": "stdout"
        },
        {
          "output_type": "execute_result",
          "data": {
            "text/plain": [
              "<stable_baselines.ddpg.ddpg.DDPG at 0x7f5d796daa90>"
            ]
          },
          "metadata": {
            "tags": []
          },
          "execution_count": 225
        }
      ]
    },
    {
      "cell_type": "markdown",
      "metadata": {
        "id": "PxPSXtp-bTkZ"
      },
      "source": [
        "### Model 3: A2C"
      ]
    },
    {
      "cell_type": "code",
      "metadata": {
        "colab": {
          "base_uri": "https://localhost:8080/"
        },
        "id": "b6FdSXHYZUXP",
        "outputId": "1f5b53ab-6805-4ffd-eba5-55faa55bb6e8"
      },
      "source": [
        "#tensorboard --logdir ./single_stock_tensorboard/\r\n",
        "env_train = DummyVecEnv([lambda: SingleStockEnv(train)])\r\n",
        "model_a2c = A2C('MlpPolicy', env_train, tensorboard_log=\"./single_stock_trading_2_tensorboard/\")\r\n",
        "model_a2c.learn(total_timesteps=100000,tb_log_name=\"run_iam_a2c\")\r\n",
        "#model.save('IAM_a2c_50k')"
      ],
      "execution_count": null,
      "outputs": [
        {
          "output_type": "stream",
          "text": [
            "previous_total_asset:100000\n",
            "end_total_asset:98308.72463357495\n",
            "total_reward:-1691.2753664250486\n",
            "total_cost:  42041.27975951109\n",
            "total trades:  3371\n",
            "Sharpe:  0.05149498557452336\n",
            "previous_total_asset:100000\n",
            "end_total_asset:119353.93088717255\n",
            "total_reward:19353.93088717255\n",
            "total_cost:  39600.990299530866\n",
            "total trades:  3470\n",
            "Sharpe:  0.16056637006861266\n",
            "previous_total_asset:100000\n",
            "end_total_asset:170677.21472958248\n",
            "total_reward:70677.21472958248\n",
            "total_cost:  43624.31633805173\n",
            "total trades:  3418\n",
            "Sharpe:  0.34481874889533537\n",
            "previous_total_asset:100000\n",
            "end_total_asset:130068.97233475203\n",
            "total_reward:30068.972334752034\n",
            "total_cost:  41036.03238045304\n",
            "total trades:  3469\n",
            "Sharpe:  0.20082605097348688\n",
            "previous_total_asset:100000\n",
            "end_total_asset:103984.95985644833\n",
            "total_reward:3984.9598564483313\n",
            "total_cost:  38623.74588747219\n",
            "total trades:  3289\n",
            "Sharpe:  0.08638385910821413\n",
            "previous_total_asset:100000\n",
            "end_total_asset:88216.9883424928\n",
            "total_reward:-11783.011657507202\n",
            "total_cost:  44634.27294915039\n",
            "total trades:  3423\n",
            "Sharpe:  0.017894634800634458\n",
            "previous_total_asset:100000\n",
            "end_total_asset:81817.53132133976\n",
            "total_reward:-18182.46867866024\n",
            "total_cost:  41656.974025166455\n",
            "total trades:  3479\n",
            "Sharpe:  -0.024995634902114934\n",
            "previous_total_asset:100000\n",
            "end_total_asset:140610.70659440098\n",
            "total_reward:40610.70659440098\n",
            "total_cost:  23175.170295124914\n",
            "total trades:  3485\n",
            "Sharpe:  0.23022623279092327\n",
            "previous_total_asset:100000\n",
            "end_total_asset:159888.2932531772\n",
            "total_reward:59888.293253177195\n",
            "total_cost:  11581.980212075337\n",
            "total trades:  3485\n",
            "Sharpe:  0.28189392170222566\n",
            "previous_total_asset:100000\n",
            "end_total_asset:135921.09689363794\n",
            "total_reward:35921.096893637936\n",
            "total_cost:  31238.478300240226\n",
            "total trades:  3484\n",
            "Sharpe:  0.21640755382601085\n",
            "previous_total_asset:100000\n",
            "end_total_asset:140630.51188907423\n",
            "total_reward:40630.51188907423\n",
            "total_cost:  37685.50418545523\n",
            "total trades:  3484\n",
            "Sharpe:  0.23269621019125\n",
            "previous_total_asset:100000\n",
            "end_total_asset:103041.2561259704\n",
            "total_reward:3041.2561259703944\n",
            "total_cost:  47494.210158332855\n",
            "total trades:  3483\n",
            "Sharpe:  0.09344818965940746\n",
            "previous_total_asset:100000\n",
            "end_total_asset:117397.15798786294\n",
            "total_reward:17397.15798786294\n",
            "total_cost:  47189.266100948575\n",
            "total trades:  3485\n",
            "Sharpe:  0.1531795229224156\n",
            "previous_total_asset:100000\n",
            "end_total_asset:138143.11550924944\n",
            "total_reward:38143.115509249445\n",
            "total_cost:  25602.960444078057\n",
            "total trades:  3485\n",
            "Sharpe:  0.22243266481266605\n",
            "previous_total_asset:100000\n",
            "end_total_asset:163229.27810956613\n",
            "total_reward:63229.278109566134\n",
            "total_cost:  5200.243111184971\n",
            "total trades:  3485\n",
            "Sharpe:  0.28922044965260046\n",
            "previous_total_asset:100000\n",
            "end_total_asset:164960.7287904243\n",
            "total_reward:64960.7287904243\n",
            "total_cost:  7133.064580271201\n",
            "total trades:  3484\n",
            "Sharpe:  0.2936759751486985\n",
            "previous_total_asset:100000\n",
            "end_total_asset:165052.08649076434\n",
            "total_reward:65052.08649076434\n",
            "total_cost:  7068.033517475767\n",
            "total trades:  3485\n",
            "Sharpe:  0.29379906264626765\n",
            "previous_total_asset:100000\n",
            "end_total_asset:150531.44141903994\n",
            "total_reward:50531.44141903994\n",
            "total_cost:  15428.983439440462\n",
            "total trades:  3485\n",
            "Sharpe:  0.2567651348478217\n",
            "previous_total_asset:100000\n",
            "end_total_asset:107237.88738670902\n",
            "total_reward:7237.887386709015\n",
            "total_cost:  38761.51045477994\n",
            "total trades:  3456\n",
            "Sharpe:  0.1127191538225783\n",
            "previous_total_asset:100000\n",
            "end_total_asset:128863.07256766708\n",
            "total_reward:28863.072567667085\n",
            "total_cost:  45344.80497827187\n",
            "total trades:  3434\n",
            "Sharpe:  0.20219924776002401\n",
            "previous_total_asset:100000\n",
            "end_total_asset:148284.3319156309\n",
            "total_reward:48284.3319156309\n",
            "total_cost:  27469.90031375622\n",
            "total trades:  3470\n",
            "Sharpe:  0.2574862987875249\n",
            "previous_total_asset:100000\n",
            "end_total_asset:170851.24703312895\n",
            "total_reward:70851.24703312895\n",
            "total_cost:  1273.4074137590783\n",
            "total trades:  3484\n",
            "Sharpe:  0.3073133194901973\n",
            "previous_total_asset:100000\n",
            "end_total_asset:171046.09382624488\n",
            "total_reward:71046.09382624488\n",
            "total_cost:  344.86506623407365\n",
            "total trades:  3485\n",
            "Sharpe:  0.30764877242399685\n",
            "previous_total_asset:100000\n",
            "end_total_asset:167153.16484299352\n",
            "total_reward:67153.16484299352\n",
            "total_cost:  2435.2242442258457\n",
            "total trades:  3485\n",
            "Sharpe:  0.29860011205574083\n",
            "previous_total_asset:100000\n",
            "end_total_asset:169406.78851348066\n",
            "total_reward:69406.78851348066\n",
            "total_cost:  2520.475426414632\n",
            "total trades:  3485\n",
            "Sharpe:  0.304331677579243\n",
            "previous_total_asset:100000\n",
            "end_total_asset:158402.43439764675\n",
            "total_reward:58402.43439764675\n",
            "total_cost:  11536.487559961233\n",
            "total trades:  3485\n",
            "Sharpe:  0.2777051735666728\n",
            "previous_total_asset:100000\n",
            "end_total_asset:170584.9967856346\n",
            "total_reward:70584.9967856346\n",
            "total_cost:  2693.932664877453\n",
            "total trades:  3485\n",
            "Sharpe:  0.30689703874214186\n",
            "previous_total_asset:100000\n",
            "end_total_asset:163920.21419781516\n",
            "total_reward:63920.21419781516\n",
            "total_cost:  2364.0401113051216\n",
            "total trades:  3485\n",
            "Sharpe:  0.290578967936427\n"
          ],
          "name": "stdout"
        },
        {
          "output_type": "execute_result",
          "data": {
            "text/plain": [
              "<stable_baselines.a2c.a2c.A2C at 0x7f5d830553d0>"
            ]
          },
          "metadata": {
            "tags": []
          },
          "execution_count": 169
        }
      ]
    },
    {
      "cell_type": "markdown",
      "metadata": {
        "id": "oQLmnmKjcOGb"
      },
      "source": [
        "### Model 4: TD3"
      ]
    },
    {
      "cell_type": "code",
      "metadata": {
        "colab": {
          "base_uri": "https://localhost:8080/"
        },
        "id": "qWvX41_ObbTm",
        "outputId": "8418e4fb-5947-44fa-8a32-60f690dd6c26"
      },
      "source": [
        "#tensorboard --logdir ./single_stock_tensorboard/\r\n",
        "#DQN<DDPG<TD3\r\n",
        "env_train = DummyVecEnv([lambda: SingleStockEnv(train)])\r\n",
        "model_td3 = TD3('MlpPolicy', env_train, tensorboard_log=\"./single_stock_trading_2_tensorboard/\")\r\n",
        "model_td3.learn(total_timesteps=100000,tb_log_name=\"run_iam_td3\")\r\n",
        "#model.save('IAM_td3_50k')"
      ],
      "execution_count": null,
      "outputs": [
        {
          "output_type": "stream",
          "text": [
            "previous_total_asset:100000\n",
            "end_total_asset:97275.04571414196\n",
            "total_reward:-2724.954285858039\n",
            "total_cost:  612.3299200496369\n",
            "total trades:  98\n",
            "Sharpe:  -0.27953118910451297\n",
            "previous_total_asset:100000\n",
            "end_total_asset:100000.0\n",
            "total_reward:0.0\n",
            "total_cost:  0\n",
            "total trades:  0\n",
            "previous_total_asset:100000\n",
            "end_total_asset:100000.0\n",
            "total_reward:0.0\n",
            "total_cost:  0\n",
            "total trades:  0\n",
            "previous_total_asset:100000\n",
            "end_total_asset:100000.0\n",
            "total_reward:0.0\n",
            "total_cost:  0\n",
            "total trades:  0\n",
            "previous_total_asset:100000\n",
            "end_total_asset:100000.0\n",
            "total_reward:0.0\n",
            "total_cost:  0\n",
            "total trades:  0\n",
            "previous_total_asset:100000\n",
            "end_total_asset:100000.0\n",
            "total_reward:0.0\n",
            "total_cost:  0\n",
            "total trades:  0\n",
            "previous_total_asset:100000\n",
            "end_total_asset:100000.0\n",
            "total_reward:0.0\n",
            "total_cost:  0\n",
            "total trades:  0\n",
            "previous_total_asset:100000\n",
            "end_total_asset:100000.0\n",
            "total_reward:0.0\n",
            "total_cost:  0\n",
            "total trades:  0\n",
            "previous_total_asset:100000\n",
            "end_total_asset:100000.0\n",
            "total_reward:0.0\n",
            "total_cost:  0\n",
            "total trades:  0\n",
            "previous_total_asset:100000\n",
            "end_total_asset:100000.0\n",
            "total_reward:0.0\n",
            "total_cost:  0\n",
            "total trades:  0\n",
            "previous_total_asset:100000\n",
            "end_total_asset:100000.0\n",
            "total_reward:0.0\n",
            "total_cost:  0\n",
            "total trades:  0\n",
            "previous_total_asset:100000\n",
            "end_total_asset:100000.0\n",
            "total_reward:0.0\n",
            "total_cost:  0\n",
            "total trades:  0\n",
            "previous_total_asset:100000\n",
            "end_total_asset:100000.0\n",
            "total_reward:0.0\n",
            "total_cost:  0\n",
            "total trades:  0\n",
            "previous_total_asset:100000\n",
            "end_total_asset:100000.0\n",
            "total_reward:0.0\n",
            "total_cost:  0\n",
            "total trades:  0\n",
            "previous_total_asset:100000\n",
            "end_total_asset:100000.0\n",
            "total_reward:0.0\n",
            "total_cost:  0\n",
            "total trades:  0\n",
            "previous_total_asset:100000\n",
            "end_total_asset:100000.0\n",
            "total_reward:0.0\n",
            "total_cost:  0\n",
            "total trades:  0\n",
            "previous_total_asset:100000\n",
            "end_total_asset:100000.0\n",
            "total_reward:0.0\n",
            "total_cost:  0\n",
            "total trades:  0\n",
            "previous_total_asset:100000\n",
            "end_total_asset:100000.0\n",
            "total_reward:0.0\n",
            "total_cost:  0\n",
            "total trades:  0\n",
            "previous_total_asset:100000\n",
            "end_total_asset:100000.0\n",
            "total_reward:0.0\n",
            "total_cost:  0\n",
            "total trades:  0\n",
            "previous_total_asset:100000\n",
            "end_total_asset:100000.0\n",
            "total_reward:0.0\n",
            "total_cost:  0\n",
            "total trades:  0\n",
            "previous_total_asset:100000\n",
            "end_total_asset:100000.0\n",
            "total_reward:0.0\n",
            "total_cost:  0\n",
            "total trades:  0\n",
            "previous_total_asset:100000\n",
            "end_total_asset:100000.0\n",
            "total_reward:0.0\n",
            "total_cost:  0\n",
            "total trades:  0\n",
            "previous_total_asset:100000\n",
            "end_total_asset:100000.0\n",
            "total_reward:0.0\n",
            "total_cost:  0\n",
            "total trades:  0\n",
            "previous_total_asset:100000\n",
            "end_total_asset:100000.0\n",
            "total_reward:0.0\n",
            "total_cost:  0\n",
            "total trades:  0\n",
            "previous_total_asset:100000\n",
            "end_total_asset:100000.0\n",
            "total_reward:0.0\n",
            "total_cost:  0\n",
            "total trades:  0\n",
            "previous_total_asset:100000\n",
            "end_total_asset:100000.0\n",
            "total_reward:0.0\n",
            "total_cost:  0\n",
            "total trades:  0\n",
            "previous_total_asset:100000\n",
            "end_total_asset:100000.0\n",
            "total_reward:0.0\n",
            "total_cost:  0\n",
            "total trades:  0\n",
            "previous_total_asset:100000\n",
            "end_total_asset:100000.0\n",
            "total_reward:0.0\n",
            "total_cost:  0\n",
            "total trades:  0\n"
          ],
          "name": "stdout"
        },
        {
          "output_type": "execute_result",
          "data": {
            "text/plain": [
              "<stable_baselines.td3.td3.TD3 at 0x7f5d85fc2790>"
            ]
          },
          "metadata": {
            "tags": []
          },
          "execution_count": 171
        }
      ]
    },
    {
      "cell_type": "markdown",
      "metadata": {
        "id": "iC_ZRQx0cg5l"
      },
      "source": [
        "### Testing data"
      ]
    },
    {
      "cell_type": "code",
      "metadata": {
        "id": "9OYWlKAscS3n"
      },
      "source": [
        "test = data_clean[(data_clean.datadate>='1/1/2019') ]\r\n",
        "# the index needs to start from 0\r\n",
        "test=test.reset_index(drop=True)"
      ],
      "execution_count": null,
      "outputs": []
    },
    {
      "cell_type": "code",
      "metadata": {
        "colab": {
          "base_uri": "https://localhost:8080/",
          "height": 204
        },
        "id": "Ygy_bYmJeVsK",
        "outputId": "0d8f00cf-b1e4-4b7f-d59c-8c4d020d38b7"
      },
      "source": [
        "test.head()"
      ],
      "execution_count": null,
      "outputs": [
        {
          "output_type": "execute_result",
          "data": {
            "text/html": [
              "<div>\n",
              "<style scoped>\n",
              "    .dataframe tbody tr th:only-of-type {\n",
              "        vertical-align: middle;\n",
              "    }\n",
              "\n",
              "    .dataframe tbody tr th {\n",
              "        vertical-align: top;\n",
              "    }\n",
              "\n",
              "    .dataframe thead th {\n",
              "        text-align: right;\n",
              "    }\n",
              "</style>\n",
              "<table border=\"1\" class=\"dataframe\">\n",
              "  <thead>\n",
              "    <tr style=\"text-align: right;\">\n",
              "      <th></th>\n",
              "      <th>datadate</th>\n",
              "      <th>open</th>\n",
              "      <th>high</th>\n",
              "      <th>low</th>\n",
              "      <th>close</th>\n",
              "      <th>volume</th>\n",
              "      <th>macd</th>\n",
              "    </tr>\n",
              "  </thead>\n",
              "  <tbody>\n",
              "    <tr>\n",
              "      <th>0</th>\n",
              "      <td>2019-01-02</td>\n",
              "      <td>141.05</td>\n",
              "      <td>141.40</td>\n",
              "      <td>141.00</td>\n",
              "      <td>141.40</td>\n",
              "      <td>8954.0</td>\n",
              "      <td>0.171645</td>\n",
              "    </tr>\n",
              "    <tr>\n",
              "      <th>1</th>\n",
              "      <td>2019-01-03</td>\n",
              "      <td>141.40</td>\n",
              "      <td>141.55</td>\n",
              "      <td>141.25</td>\n",
              "      <td>141.55</td>\n",
              "      <td>92128.0</td>\n",
              "      <td>0.209234</td>\n",
              "    </tr>\n",
              "    <tr>\n",
              "      <th>2</th>\n",
              "      <td>2019-01-04</td>\n",
              "      <td>141.50</td>\n",
              "      <td>141.60</td>\n",
              "      <td>141.30</td>\n",
              "      <td>141.60</td>\n",
              "      <td>71911.0</td>\n",
              "      <td>0.240288</td>\n",
              "    </tr>\n",
              "    <tr>\n",
              "      <th>3</th>\n",
              "      <td>2019-01-07</td>\n",
              "      <td>141.30</td>\n",
              "      <td>141.65</td>\n",
              "      <td>141.30</td>\n",
              "      <td>141.65</td>\n",
              "      <td>81017.0</td>\n",
              "      <td>0.265869</td>\n",
              "    </tr>\n",
              "    <tr>\n",
              "      <th>4</th>\n",
              "      <td>2019-01-08</td>\n",
              "      <td>141.50</td>\n",
              "      <td>142.05</td>\n",
              "      <td>141.50</td>\n",
              "      <td>142.00</td>\n",
              "      <td>26350.0</td>\n",
              "      <td>0.310801</td>\n",
              "    </tr>\n",
              "  </tbody>\n",
              "</table>\n",
              "</div>"
            ],
            "text/plain": [
              "    datadate    open    high     low   close   volume      macd\n",
              "0 2019-01-02  141.05  141.40  141.00  141.40   8954.0  0.171645\n",
              "1 2019-01-03  141.40  141.55  141.25  141.55  92128.0  0.209234\n",
              "2 2019-01-04  141.50  141.60  141.30  141.60  71911.0  0.240288\n",
              "3 2019-01-07  141.30  141.65  141.30  141.65  81017.0  0.265869\n",
              "4 2019-01-08  141.50  142.05  141.50  142.00  26350.0  0.310801"
            ]
          },
          "metadata": {
            "tags": []
          },
          "execution_count": 173
        }
      ]
    },
    {
      "cell_type": "markdown",
      "metadata": {
        "id": "ntOkId3MeaB6"
      },
      "source": [
        "### Trading\r\n",
        "Assume that we have 100,000 MAD initial capital at 2019-01-01. We use the a2c model to trade IAM."
      ]
    },
    {
      "cell_type": "code",
      "metadata": {
        "colab": {
          "base_uri": "https://localhost:8080/"
        },
        "id": "1rzhm0SXeYqc",
        "outputId": "8dde01c1-4ea1-46a8-ddd9-b710fc5c781d"
      },
      "source": [
        "model = model_a2c\r\n",
        "env_test = DummyVecEnv([lambda: SingleStockEnv(test)])\r\n",
        "obs_test = env_test.reset()\r\n",
        "print(\"==============Model Prediction===========\")\r\n",
        "for i in range(len(test.index.unique())):\r\n",
        "    action, _states = model.predict(obs_test)\r\n",
        "    obs_test, rewards, dones, info = env_test.step(action)\r\n",
        "    env_test.render()"
      ],
      "execution_count": null,
      "outputs": [
        {
          "output_type": "stream",
          "text": [
            "==============Model Prediction===========\n",
            "previous_total_asset:100000\n",
            "end_total_asset:97370.57993864882\n",
            "total_reward:-2629.4200613511784\n",
            "total_cost:  321.0607222093583\n",
            "total trades:  533\n",
            "Sharpe:  0.032249847051439025\n"
          ],
          "name": "stdout"
        }
      ]
    },
    {
      "cell_type": "markdown",
      "metadata": {
        "id": "9cNOG32De9el"
      },
      "source": [
        "# Part 5: Backtest Our Strategy\r\n",
        "For simplicity purposes, in the article, we just calculate the Sharpe ratio and the annual return manually."
      ]
    },
    {
      "cell_type": "code",
      "metadata": {
        "id": "nNCAv2_rejhg"
      },
      "source": [
        "def get_DRL_sharpe():\r\n",
        "    df_total_value=pd.read_csv('account_value.csv',index_col=0)\r\n",
        "    df_total_value.columns = ['account_value']\r\n",
        "    df_total_value['daily_return']=df_total_value.pct_change(1)\r\n",
        "    sharpe = (252**0.5)*df_total_value['daily_return'].mean()/ \\\r\n",
        "    df_total_value['daily_return'].std()\r\n",
        "    \r\n",
        "    annual_return = ((df_total_value['daily_return'].mean()+1)**252-1)*100\r\n",
        "    print(\"annual return: \", annual_return)\r\n",
        "    print(\"sharpe ratio: \", sharpe)\r\n",
        "    return df_total_value"
      ],
      "execution_count": null,
      "outputs": []
    },
    {
      "cell_type": "code",
      "metadata": {
        "id": "qMtGR1ERfAKF"
      },
      "source": [
        "def get_buy_and_hold_sharpe(test):\r\n",
        "    test['daily_return']=test['close'].pct_change(1)\r\n",
        "    sharpe = (252**0.5)*test['daily_return'].mean()/ \\\r\n",
        "    test['daily_return'].std()\r\n",
        "    annual_return = ((test['daily_return'].mean()+1)**252-1)*100\r\n",
        "    print(\"annual return: \", annual_return)\r\n",
        "\r\n",
        "    print(\"sharpe ratio: \", sharpe)\r\n",
        "    #return sharpe"
      ],
      "execution_count": null,
      "outputs": []
    },
    {
      "cell_type": "code",
      "metadata": {
        "colab": {
          "base_uri": "https://localhost:8080/"
        },
        "id": "nAX5_tKRfB9X",
        "outputId": "3f9150a0-9a50-4a2f-8545-dccfef6559a4"
      },
      "source": [
        "df_total_value=get_DRL_sharpe()"
      ],
      "execution_count": null,
      "outputs": [
        {
          "output_type": "stream",
          "text": [
            "annual return:  0.36505051853121806\n",
            "sharpe ratio:  0.018885658045542254\n"
          ],
          "name": "stdout"
        }
      ]
    },
    {
      "cell_type": "code",
      "metadata": {
        "colab": {
          "base_uri": "https://localhost:8080/"
        },
        "id": "DEDqhxPPfETc",
        "outputId": "08c0b410-d517-4cbf-ce23-3d32b7e951f5"
      },
      "source": [
        "get_buy_and_hold_sharpe(test)"
      ],
      "execution_count": null,
      "outputs": [
        {
          "output_type": "stream",
          "text": [
            "annual return:  0.6532675025794799\n",
            "sharpe ratio:  0.03368128871440147\n"
          ],
          "name": "stdout"
        }
      ]
    },
    {
      "cell_type": "code",
      "metadata": {
        "id": "nzc_z2J9fIxN"
      },
      "source": [
        "DRL_cumulative_return = (df_total_value.account_value.pct_change(1)+1).cumprod()-1"
      ],
      "execution_count": null,
      "outputs": []
    },
    {
      "cell_type": "code",
      "metadata": {
        "id": "IcYOtLddfYBn"
      },
      "source": [
        "buy_and_hold_cumulative_return = (test.close.pct_change(1)+1).cumprod()-1"
      ],
      "execution_count": null,
      "outputs": []
    },
    {
      "cell_type": "code",
      "metadata": {
        "colab": {
          "base_uri": "https://localhost:8080/",
          "height": 508
        },
        "id": "CUykL1WOfZdE",
        "outputId": "8996e03a-eb31-4f46-a6cb-9f4437bdedb7"
      },
      "source": [
        "%matplotlib inline\r\n",
        "fig, ax = plt.subplots(figsize=(12, 8))\r\n",
        "\r\n",
        "plt.plot(test.datadate, DRL_cumulative_return, color='red',label = \"DRL\")\r\n",
        "plt.plot(test.datadate, buy_and_hold_cumulative_return, label = \"Buy & Hold\")\r\n",
        "plt.title(\"Cumulative Return for IAM with Transaction Cost\",size= 18)\r\n",
        "plt.legend()\r\n",
        "plt.rc('legend',fontsize=15)\r\n",
        "plt.rc('xtick', labelsize=15)\r\n",
        "plt.rc('ytick', labelsize=15)"
      ],
      "execution_count": null,
      "outputs": [
        {
          "output_type": "display_data",
          "data": {
            "image/png": "[encoded data removed]",
            "text/plain": [
              "<Figure size 864x576 with 1 Axes>"
            ]
          },
          "metadata": {
            "tags": [],
            "needs_background": "light"
          }
        }
      ]
    }
  ]
}